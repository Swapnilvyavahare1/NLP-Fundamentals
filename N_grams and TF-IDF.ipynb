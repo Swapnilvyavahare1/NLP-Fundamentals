{
 "cells": [
  {
   "cell_type": "markdown",
   "id": "5738eef0",
   "metadata": {},
   "source": [
    "1) Using nltk"
   ]
  },
  {
   "cell_type": "code",
   "execution_count": 1,
   "id": "f5e7759c",
   "metadata": {},
   "outputs": [],
   "source": [
    "import re"
   ]
  },
  {
   "cell_type": "code",
   "execution_count": 2,
   "id": "8b9d90a1",
   "metadata": {},
   "outputs": [],
   "source": [
    "def N_Grams(text,n):\n",
    "    tokens=re.split(\"\\\\s+\",text)\n",
    "    ngrams=[]\n",
    "    # collect the n_grams\n",
    "    for i in range(len(tokens)-n+1):\n",
    "        temp=[tokens[j] for j in range(i,i+n)]\n",
    "        ngrams.append(\" \".join(temp))\n",
    "    return ngrams"
   ]
  },
  {
   "cell_type": "code",
   "execution_count": 3,
   "id": "24343265",
   "metadata": {},
   "outputs": [],
   "source": [
    "text1='the quick brown fox jumps over the lazy dog'"
   ]
  },
  {
   "cell_type": "code",
   "execution_count": 4,
   "id": "6e49bf5d",
   "metadata": {},
   "outputs": [
    {
     "data": {
      "text/plain": [
       "['the', 'quick', 'brown', 'fox', 'jumps', 'over', 'the', 'lazy', 'dog']"
      ]
     },
     "execution_count": 4,
     "metadata": {},
     "output_type": "execute_result"
    }
   ],
   "source": [
    "N_Grams(text1,1)# Unigram"
   ]
  },
  {
   "cell_type": "code",
   "execution_count": 5,
   "id": "bf493115",
   "metadata": {},
   "outputs": [
    {
     "data": {
      "text/plain": [
       "['the quick',\n",
       " 'quick brown',\n",
       " 'brown fox',\n",
       " 'fox jumps',\n",
       " 'jumps over',\n",
       " 'over the',\n",
       " 'the lazy',\n",
       " 'lazy dog']"
      ]
     },
     "execution_count": 5,
     "metadata": {},
     "output_type": "execute_result"
    }
   ],
   "source": [
    "N_Grams(text1,2)# Bigram"
   ]
  },
  {
   "cell_type": "code",
   "execution_count": 6,
   "id": "a686218c",
   "metadata": {},
   "outputs": [
    {
     "data": {
      "text/plain": [
       "['the quick brown',\n",
       " 'quick brown fox',\n",
       " 'brown fox jumps',\n",
       " 'fox jumps over',\n",
       " 'jumps over the',\n",
       " 'over the lazy',\n",
       " 'the lazy dog']"
      ]
     },
     "execution_count": 6,
     "metadata": {},
     "output_type": "execute_result"
    }
   ],
   "source": [
    "N_Grams(text1,3)# Trigram"
   ]
  },
  {
   "cell_type": "markdown",
   "id": "3ac94b4b",
   "metadata": {},
   "source": [
    "2) Using Textblob"
   ]
  },
  {
   "cell_type": "code",
   "execution_count": 8,
   "id": "c8ada49d",
   "metadata": {},
   "outputs": [
    {
     "name": "stdout",
     "output_type": "stream",
     "text": [
      "Defaulting to user installation because normal site-packages is not writeable\n",
      "Requirement already satisfied: textblob in c:\\users\\dell 2\\appdata\\roaming\\python\\python39\\site-packages (0.17.1)\n",
      "Requirement already satisfied: nltk>=3.1 in c:\\anaconda\\lib\\site-packages (from textblob) (3.7)\n",
      "Requirement already satisfied: regex>=2021.8.3 in c:\\users\\dell 2\\appdata\\roaming\\python\\python39\\site-packages (from nltk>=3.1->textblob) (2021.11.10)\n",
      "Requirement already satisfied: tqdm in c:\\anaconda\\lib\\site-packages (from nltk>=3.1->textblob) (4.64.0)\n",
      "Requirement already satisfied: click in c:\\anaconda\\lib\\site-packages (from nltk>=3.1->textblob) (8.0.4)\n",
      "Requirement already satisfied: joblib in c:\\anaconda\\lib\\site-packages (from nltk>=3.1->textblob) (1.1.0)\n",
      "Requirement already satisfied: colorama in c:\\anaconda\\lib\\site-packages (from click->nltk>=3.1->textblob) (0.4.4)\n"
     ]
    }
   ],
   "source": [
    "!pip install -U textblob"
   ]
  },
  {
   "cell_type": "code",
   "execution_count": 10,
   "id": "41743181",
   "metadata": {},
   "outputs": [
    {
     "name": "stdout",
     "output_type": "stream",
     "text": [
      "Finished.\n"
     ]
    },
    {
     "name": "stderr",
     "output_type": "stream",
     "text": [
      "[nltk_data] Downloading package brown to C:\\Users\\DELL\n",
      "[nltk_data]     2\\AppData\\Roaming\\nltk_data...\n",
      "[nltk_data]   Package brown is already up-to-date!\n",
      "[nltk_data] Downloading package punkt to C:\\Users\\DELL\n",
      "[nltk_data]     2\\AppData\\Roaming\\nltk_data...\n",
      "[nltk_data]   Package punkt is already up-to-date!\n",
      "[nltk_data] Downloading package wordnet to C:\\Users\\DELL\n",
      "[nltk_data]     2\\AppData\\Roaming\\nltk_data...\n",
      "[nltk_data]   Package wordnet is already up-to-date!\n",
      "[nltk_data] Downloading package averaged_perceptron_tagger to\n",
      "[nltk_data]     C:\\Users\\DELL 2\\AppData\\Roaming\\nltk_data...\n",
      "[nltk_data]   Package averaged_perceptron_tagger is already up-to-\n",
      "[nltk_data]       date!\n",
      "[nltk_data] Downloading package conll2000 to C:\\Users\\DELL\n",
      "[nltk_data]     2\\AppData\\Roaming\\nltk_data...\n",
      "[nltk_data]   Package conll2000 is already up-to-date!\n",
      "[nltk_data] Downloading package movie_reviews to C:\\Users\\DELL\n",
      "[nltk_data]     2\\AppData\\Roaming\\nltk_data...\n",
      "[nltk_data]   Package movie_reviews is already up-to-date!\n"
     ]
    }
   ],
   "source": [
    "!python -m textblob.download_corpora"
   ]
  },
  {
   "cell_type": "code",
   "execution_count": 11,
   "id": "41047d40",
   "metadata": {},
   "outputs": [],
   "source": [
    "from textblob import TextBlob"
   ]
  },
  {
   "cell_type": "code",
   "execution_count": 12,
   "id": "d799d45c",
   "metadata": {},
   "outputs": [],
   "source": [
    "blob=TextBlob('the quick brown fox jumps over the lazy dog')"
   ]
  },
  {
   "cell_type": "code",
   "execution_count": 13,
   "id": "dc124a2d",
   "metadata": {},
   "outputs": [
    {
     "data": {
      "text/plain": [
       "[WordList(['the']),\n",
       " WordList(['quick']),\n",
       " WordList(['brown']),\n",
       " WordList(['fox']),\n",
       " WordList(['jumps']),\n",
       " WordList(['over']),\n",
       " WordList(['the']),\n",
       " WordList(['lazy']),\n",
       " WordList(['dog'])]"
      ]
     },
     "execution_count": 13,
     "metadata": {},
     "output_type": "execute_result"
    }
   ],
   "source": [
    "blob.ngrams(n=1)"
   ]
  },
  {
   "cell_type": "code",
   "execution_count": 14,
   "id": "1236a541",
   "metadata": {},
   "outputs": [
    {
     "data": {
      "text/plain": [
       "[WordList(['the', 'quick']),\n",
       " WordList(['quick', 'brown']),\n",
       " WordList(['brown', 'fox']),\n",
       " WordList(['fox', 'jumps']),\n",
       " WordList(['jumps', 'over']),\n",
       " WordList(['over', 'the']),\n",
       " WordList(['the', 'lazy']),\n",
       " WordList(['lazy', 'dog'])]"
      ]
     },
     "execution_count": 14,
     "metadata": {},
     "output_type": "execute_result"
    }
   ],
   "source": [
    "blob.ngrams(n=2)"
   ]
  },
  {
   "cell_type": "code",
   "execution_count": 15,
   "id": "9187dba9",
   "metadata": {},
   "outputs": [
    {
     "data": {
      "text/plain": [
       "[WordList(['the', 'quick', 'brown']),\n",
       " WordList(['quick', 'brown', 'fox']),\n",
       " WordList(['brown', 'fox', 'jumps']),\n",
       " WordList(['fox', 'jumps', 'over']),\n",
       " WordList(['jumps', 'over', 'the']),\n",
       " WordList(['over', 'the', 'lazy']),\n",
       " WordList(['the', 'lazy', 'dog'])]"
      ]
     },
     "execution_count": 15,
     "metadata": {},
     "output_type": "execute_result"
    }
   ],
   "source": [
    "blob.ngrams(n=3)"
   ]
  },
  {
   "cell_type": "markdown",
   "id": "ae93916b",
   "metadata": {},
   "source": [
    "Translate"
   ]
  },
  {
   "cell_type": "code",
   "execution_count": 20,
   "id": "0a1267e3",
   "metadata": {},
   "outputs": [],
   "source": [
    "chinese=TextBlob('香港行政长官李家超星期二（5月2日）指责有区议员危害中国国家安全，“鼓吹‘港独’，助长‘黑暴’，反对香港《国安法》”，“粗暴作出超出区议会作为地区咨询组织职能的事情”。整顿区议会组成是要确保区议会“去政治化”。2020年6月中国《香港国安法》颁布后，特区立法会2021年5月再通过《公职修订条例》，要求现任区议员宣誓“拥护《基本法》、效忠香港特区”，大批民主派相继辞职、拒绝宣誓后被褫夺议席，或在宣誓后被裁定宣誓无效，造成近70%议席悬空。')"
   ]
  },
  {
   "cell_type": "code",
   "execution_count": 21,
   "id": "a5ca475a",
   "metadata": {},
   "outputs": [
    {
     "data": {
      "text/plain": [
       "TextBlob(\"香港行政长官李家超星期二（5月2日）指责有区议员危害中国国家安全，“鼓吹‘港独’，助长‘黑暴’，反对香港《国安法》”，“粗暴作出超出区议会作为地区咨询组织职能的事情”。整顿区议会组成是要确保区议会“去政治化”。2020年6月中国《香港国安法》颁布后，特区立法会2021年5月再通过《公职修订条例》，要求现任区议员宣誓“拥护《基本法》、效忠香港特区”，大批民主派相继辞职、拒绝宣誓后被褫夺议席，或在宣誓后被裁定宣誓无效，造成近70%议席悬空。\")"
      ]
     },
     "execution_count": 21,
     "metadata": {},
     "output_type": "execute_result"
    }
   ],
   "source": [
    "chinese"
   ]
  },
  {
   "cell_type": "code",
   "execution_count": 23,
   "id": "59670470",
   "metadata": {},
   "outputs": [
    {
     "data": {
      "text/plain": [
       "TextBlob(\"हाँगकाँगचे मुख्य कार्यकारी ली जियाचाओ यांनी मंगळवारी (2 मे) चीनच्या राष्ट्रीय सुरक्षा धोक्यात आणल्याचा जिल्हा नगरसेवकांवर आरोप केला. \"आयोजन कार्ये\". जिल्हा परिषदेच्या सुधारणेची रचना जिल्हा परिषद \"डी -पॉलिटिकल\" आहे याची खात्री करण्यासाठी आहे. जून २०२० मध्ये चीनमध्ये \"हाँगकाँग नॅशनल सिक्युरिटी लॉ\" च्या प्रसारानंतर, एसएआर विधान परिषदेने मे २०२१ मध्ये \"सार्वजनिक कार्यालय दुरुस्ती नियम\" मंजूर केले, ज्यात सध्याच्या जिल्हा सदस्यांनी \"मूलभूत कायदा\" आणि निष्ठावान यांना पाठिंबा दर्शविला होता. हाँगकाँगच्या विशेष प्रशासकीय प्रदेशात. शपथ घेण्यास नकार दिल्यानंतर, त्याला सीटने ताब्यात घेतले किंवा शपथ घेतल्यानंतर शपथ घेतली गेली, परिणामी जवळपास 70%जागा निलंबित झाली.\")"
      ]
     },
     "execution_count": 23,
     "metadata": {},
     "output_type": "execute_result"
    }
   ],
   "source": [
    "chinese.translate(from_lang='zh-CN',to='mr')"
   ]
  },
  {
   "cell_type": "markdown",
   "id": "1f9b0e0c",
   "metadata": {},
   "source": [
    "Language codes- https://en.wikipedia.org/wiki/List_of_ISO_639-1_codes"
   ]
  },
  {
   "cell_type": "markdown",
   "id": "6f9c805f",
   "metadata": {},
   "source": [
    "Spell check"
   ]
  },
  {
   "cell_type": "code",
   "execution_count": 24,
   "id": "8666d86a",
   "metadata": {},
   "outputs": [],
   "source": [
    "my_words=TextBlob('I havv good knowledge')"
   ]
  },
  {
   "cell_type": "code",
   "execution_count": 25,
   "id": "bd372732",
   "metadata": {},
   "outputs": [
    {
     "name": "stdout",
     "output_type": "stream",
     "text": [
      "I have good knowledge\n"
     ]
    }
   ],
   "source": [
    "print(my_words.correct())"
   ]
  },
  {
   "cell_type": "code",
   "execution_count": null,
   "id": "df591514",
   "metadata": {},
   "outputs": [],
   "source": []
  },
  {
   "cell_type": "code",
   "execution_count": null,
   "id": "18d78936",
   "metadata": {},
   "outputs": [],
   "source": []
  },
  {
   "cell_type": "code",
   "execution_count": null,
   "id": "ca321ef5",
   "metadata": {},
   "outputs": [],
   "source": []
  },
  {
   "cell_type": "code",
   "execution_count": null,
   "id": "52aa139d",
   "metadata": {},
   "outputs": [],
   "source": []
  },
  {
   "cell_type": "code",
   "execution_count": null,
   "id": "57bf61a2",
   "metadata": {},
   "outputs": [],
   "source": []
  },
  {
   "cell_type": "code",
   "execution_count": null,
   "id": "69bd7dfc",
   "metadata": {},
   "outputs": [],
   "source": []
  },
  {
   "cell_type": "code",
   "execution_count": null,
   "id": "1410bcb7",
   "metadata": {},
   "outputs": [],
   "source": []
  },
  {
   "cell_type": "code",
   "execution_count": null,
   "id": "9392cb96",
   "metadata": {},
   "outputs": [],
   "source": []
  },
  {
   "cell_type": "code",
   "execution_count": null,
   "id": "0afd71ea",
   "metadata": {},
   "outputs": [],
   "source": []
  },
  {
   "cell_type": "code",
   "execution_count": null,
   "id": "92b0eb3c",
   "metadata": {},
   "outputs": [],
   "source": []
  },
  {
   "cell_type": "code",
   "execution_count": null,
   "id": "0b3fc44b",
   "metadata": {},
   "outputs": [],
   "source": []
  },
  {
   "cell_type": "code",
   "execution_count": null,
   "id": "0d7e3ca7",
   "metadata": {},
   "outputs": [],
   "source": []
  },
  {
   "cell_type": "code",
   "execution_count": null,
   "id": "d0c3807b",
   "metadata": {},
   "outputs": [],
   "source": []
  },
  {
   "cell_type": "code",
   "execution_count": null,
   "id": "7faa4952",
   "metadata": {},
   "outputs": [],
   "source": []
  },
  {
   "cell_type": "code",
   "execution_count": null,
   "id": "ab49d85f",
   "metadata": {},
   "outputs": [],
   "source": []
  },
  {
   "cell_type": "code",
   "execution_count": null,
   "id": "503ab2eb",
   "metadata": {},
   "outputs": [],
   "source": []
  },
  {
   "cell_type": "code",
   "execution_count": null,
   "id": "09e76244",
   "metadata": {},
   "outputs": [],
   "source": []
  },
  {
   "cell_type": "code",
   "execution_count": null,
   "id": "d72f5bb3",
   "metadata": {},
   "outputs": [],
   "source": []
  },
  {
   "cell_type": "code",
   "execution_count": null,
   "id": "eb3e5c91",
   "metadata": {},
   "outputs": [],
   "source": []
  },
  {
   "cell_type": "code",
   "execution_count": null,
   "id": "cd71bf8e",
   "metadata": {},
   "outputs": [],
   "source": []
  },
  {
   "cell_type": "code",
   "execution_count": null,
   "id": "9b1aeb0d",
   "metadata": {},
   "outputs": [],
   "source": []
  }
 ],
 "metadata": {
  "kernelspec": {
   "display_name": "Python 3 (ipykernel)",
   "language": "python",
   "name": "python3"
  },
  "language_info": {
   "codemirror_mode": {
    "name": "ipython",
    "version": 3
   },
   "file_extension": ".py",
   "mimetype": "text/x-python",
   "name": "python",
   "nbconvert_exporter": "python",
   "pygments_lexer": "ipython3",
   "version": "3.9.12"
  }
 },
 "nbformat": 4,
 "nbformat_minor": 5
}
