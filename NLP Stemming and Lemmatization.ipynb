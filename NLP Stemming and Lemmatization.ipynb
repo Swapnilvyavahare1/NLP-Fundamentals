{
 "cells": [
  {
   "cell_type": "code",
   "execution_count": 1,
   "id": "e417e492",
   "metadata": {},
   "outputs": [],
   "source": [
    "import nltk\n",
    "from nltk.stem.porter import *"
   ]
  },
  {
   "cell_type": "code",
   "execution_count": 2,
   "id": "fd63c337",
   "metadata": {},
   "outputs": [],
   "source": [
    "p_stemmer=PorterStemmer()"
   ]
  },
  {
   "cell_type": "code",
   "execution_count": 6,
   "id": "d75e7bf1",
   "metadata": {},
   "outputs": [],
   "source": [
    "words=['run','runs','running','go','gone','going','goes','history']"
   ]
  },
  {
   "cell_type": "code",
   "execution_count": 7,
   "id": "08eb2034",
   "metadata": {},
   "outputs": [
    {
     "name": "stdout",
     "output_type": "stream",
     "text": [
      "run-->run\n",
      "runs-->run\n",
      "running-->run\n",
      "go-->go\n",
      "gone-->gone\n",
      "going-->go\n",
      "goes-->goe\n",
      "history-->histori\n"
     ]
    }
   ],
   "source": [
    "# Apply Stemming concept\n",
    "for word in words:\n",
    "    print(word+'-->'+p_stemmer.stem(word))"
   ]
  },
  {
   "cell_type": "code",
   "execution_count": 8,
   "id": "5611a514",
   "metadata": {},
   "outputs": [],
   "source": [
    "# Apply Snowball Stemmer\n",
    "\n",
    "from nltk.stem.snowball import SnowballStemmer\n",
    "s_stemmer=SnowballStemmer(language='english')"
   ]
  },
  {
   "cell_type": "code",
   "execution_count": 9,
   "id": "4370f90a",
   "metadata": {},
   "outputs": [
    {
     "name": "stdout",
     "output_type": "stream",
     "text": [
      "run-->run\n",
      "runs-->run\n",
      "running-->run\n",
      "go-->go\n",
      "gone-->gone\n",
      "going-->go\n",
      "goes-->goe\n",
      "history-->histori\n"
     ]
    }
   ],
   "source": [
    "for word in words:\n",
    "    print(word+'-->'+s_stemmer.stem(word))"
   ]
  },
  {
   "cell_type": "code",
   "execution_count": 10,
   "id": "60629b65",
   "metadata": {},
   "outputs": [],
   "source": [
    "# Apply lemmatization\n",
    "\n",
    "from nltk.stem import WordNetLemmatizer\n",
    "lemm= WordNetLemmatizer()"
   ]
  },
  {
   "cell_type": "code",
   "execution_count": 11,
   "id": "723419d9",
   "metadata": {},
   "outputs": [
    {
     "name": "stdout",
     "output_type": "stream",
     "text": [
      "run-->run\n",
      "runs-->run\n",
      "running-->running\n",
      "go-->go\n",
      "gone-->gone\n",
      "going-->going\n",
      "goes-->go\n",
      "history-->history\n"
     ]
    }
   ],
   "source": [
    "for word in words:\n",
    "    print(word+'-->'+lemm.lemmatize(word))"
   ]
  },
  {
   "cell_type": "markdown",
   "id": "7d42eb13",
   "metadata": {},
   "source": [
    "# Case Study"
   ]
  },
  {
   "cell_type": "code",
   "execution_count": 12,
   "id": "89a9808c",
   "metadata": {},
   "outputs": [],
   "source": [
    "from nltk.stem import PorterStemmer\n",
    "from nltk.corpus import stopwords"
   ]
  },
  {
   "cell_type": "code",
   "execution_count": 13,
   "id": "5a9add13",
   "metadata": {},
   "outputs": [],
   "source": [
    "eg= \"Defence Minister Rajnath Singh’s message to his visiting Chinese counterpart General Li Shangfu, that Beijing’s violation of border agreements had “eroded the entire basis of bilateral relations”, has once again served as a reminder of how the two neighbours remain far apart in their assessments of what ails their relationship, and how to fix it. Thursday’s talks, on the sidelines of the Shanghai Cooperation Organisation Defence Ministers Meeting in New Delhi, saw both sides reiterate their respective stands on the border issue but no meeting of minds. The Defence Minister underlined India’s position that the development of ties is premised on peace on the borders. While India has continued to convey a sense of urgency to resolve the Line of Actual Control (LAC) crisis, the Chinese Defence Minister, on the other hand, called on India to “take a long-term view” and “place the border issue in an appropriate position in bilateral relations”, a divergence from India’s stand that the rest of relations is predicated on peace along the LAC. Rajnath Singh conveyed to Beijing that if normalcy is to be restored in ties, disengagement in the two remaining friction points will need to be followed by de-escalation. This includes the eventual de-induction of the estimated one lakh troops from both sides that have remained deployed in forward areas for close to three years — a situation not seen along the India-China border in more than three decades.\""
   ]
  },
  {
   "cell_type": "code",
   "execution_count": 14,
   "id": "a86dc3c8",
   "metadata": {},
   "outputs": [],
   "source": [
    "sentences=nltk.sent_tokenize(eg)\n",
    "stemmer=PorterStemmer()"
   ]
  },
  {
   "cell_type": "code",
   "execution_count": 15,
   "id": "3a0b1519",
   "metadata": {
    "scrolled": true
   },
   "outputs": [
    {
     "data": {
      "text/plain": [
       "['Defence Minister Rajnath Singh’s message to his visiting Chinese counterpart General Li Shangfu, that Beijing’s violation of border agreements had “eroded the entire basis of bilateral relations”, has once again served as a reminder of how the two neighbours remain far apart in their assessments of what ails their relationship, and how to fix it.',\n",
       " 'Thursday’s talks, on the sidelines of the Shanghai Cooperation Organisation Defence Ministers Meeting in New Delhi, saw both sides reiterate their respective stands on the border issue but no meeting of minds.',\n",
       " 'The Defence Minister underlined India’s position that the development of ties is premised on peace on the borders.',\n",
       " 'While India has continued to convey a sense of urgency to resolve the Line of Actual Control (LAC) crisis, the Chinese Defence Minister, on the other hand, called on India to “take a long-term view” and “place the border issue in an appropriate position in bilateral relations”, a divergence from India’s stand that the rest of relations is predicated on peace along the LAC.',\n",
       " 'Rajnath Singh conveyed to Beijing that if normalcy is to be restored in ties, disengagement in the two remaining friction points will need to be followed by de-escalation.',\n",
       " 'This includes the eventual de-induction of the estimated one lakh troops from both sides that have remained deployed in forward areas for close to three years — a situation not seen along the India-China border in more than three decades.']"
      ]
     },
     "execution_count": 15,
     "metadata": {},
     "output_type": "execute_result"
    }
   ],
   "source": [
    "sentences"
   ]
  },
  {
   "cell_type": "code",
   "execution_count": 16,
   "id": "ca8b2abc",
   "metadata": {},
   "outputs": [],
   "source": [
    "for i in range(len(sentences)):\n",
    "    words=nltk.word_tokenize(sentences[i])\n",
    "    words=[stemmer.stem(word) for word in words if word not in set(stopwords.words('english'))]\n",
    "    sentences[i]=' '.join(words)"
   ]
  },
  {
   "cell_type": "code",
   "execution_count": 17,
   "id": "158d10eb",
   "metadata": {},
   "outputs": [
    {
     "data": {
      "text/plain": [
       "['defenc minist rajnath singh ’ messag visit chines counterpart gener li shangfu , beij ’ violat border agreement “ erod entir basi bilater relat ” , serv remind two neighbour remain far apart assess ail relationship , fix .',\n",
       " 'thursday ’ talk , sidelin shanghai cooper organis defenc minist meet new delhi , saw side reiter respect stand border issu meet mind .',\n",
       " 'the defenc minist underlin india ’ posit develop tie premis peac border .',\n",
       " 'while india continu convey sens urgenc resolv line actual control ( lac ) crisi , chines defenc minist , hand , call india “ take long-term view ” “ place border issu appropri posit bilater relat ” , diverg india ’ stand rest relat predic peac along lac .',\n",
       " 'rajnath singh convey beij normalci restor tie , disengag two remain friction point need follow de-escal .',\n",
       " 'thi includ eventu de-induct estim one lakh troop side remain deploy forward area close three year — situat seen along india-china border three decad .']"
      ]
     },
     "execution_count": 17,
     "metadata": {},
     "output_type": "execute_result"
    }
   ],
   "source": [
    "sentences"
   ]
  },
  {
   "cell_type": "code",
   "execution_count": 18,
   "id": "82f5e338",
   "metadata": {},
   "outputs": [],
   "source": [
    "lemm= WordNetLemmatizer()\n",
    "sentences_lemm=nltk.sent_tokenize(eg)\n",
    "for i in range(len(sentences_lemm)):\n",
    "    words=nltk.word_tokenize(sentences[i])\n",
    "    words=[lemm.lemmatize(word) for word in words if word not in set(stopwords.words('english'))]\n",
    "    sentences[i]=' '.join(words)"
   ]
  },
  {
   "cell_type": "code",
   "execution_count": 19,
   "id": "24f721ce",
   "metadata": {},
   "outputs": [
    {
     "data": {
      "text/plain": [
       "['Defence Minister Rajnath Singh’s message to his visiting Chinese counterpart General Li Shangfu, that Beijing’s violation of border agreements had “eroded the entire basis of bilateral relations”, has once again served as a reminder of how the two neighbours remain far apart in their assessments of what ails their relationship, and how to fix it.',\n",
       " 'Thursday’s talks, on the sidelines of the Shanghai Cooperation Organisation Defence Ministers Meeting in New Delhi, saw both sides reiterate their respective stands on the border issue but no meeting of minds.',\n",
       " 'The Defence Minister underlined India’s position that the development of ties is premised on peace on the borders.',\n",
       " 'While India has continued to convey a sense of urgency to resolve the Line of Actual Control (LAC) crisis, the Chinese Defence Minister, on the other hand, called on India to “take a long-term view” and “place the border issue in an appropriate position in bilateral relations”, a divergence from India’s stand that the rest of relations is predicated on peace along the LAC.',\n",
       " 'Rajnath Singh conveyed to Beijing that if normalcy is to be restored in ties, disengagement in the two remaining friction points will need to be followed by de-escalation.',\n",
       " 'This includes the eventual de-induction of the estimated one lakh troops from both sides that have remained deployed in forward areas for close to three years — a situation not seen along the India-China border in more than three decades.']"
      ]
     },
     "execution_count": 19,
     "metadata": {},
     "output_type": "execute_result"
    }
   ],
   "source": [
    "sentences_lemm"
   ]
  },
  {
   "cell_type": "markdown",
   "id": "2a974ffd",
   "metadata": {},
   "source": [
    "# Spacy"
   ]
  },
  {
   "cell_type": "code",
   "execution_count": 21,
   "id": "a3261798",
   "metadata": {
    "scrolled": true
   },
   "outputs": [
    {
     "name": "stdout",
     "output_type": "stream",
     "text": [
      "Defaulting to user installation because normal site-packages is not writeable\n",
      "Requirement already satisfied: spacy in c:\\users\\dell 2\\appdata\\roaming\\python\\python39\\site-packages (3.4.2)\n",
      "Collecting spacy\n",
      "  Downloading spacy-3.5.2-cp39-cp39-win_amd64.whl (12.2 MB)\n",
      "Requirement already satisfied: langcodes<4.0.0,>=3.2.0 in c:\\users\\dell 2\\appdata\\roaming\\python\\python39\\site-packages (from spacy) (3.3.0)\n",
      "Requirement already satisfied: spacy-loggers<2.0.0,>=1.0.0 in c:\\users\\dell 2\\appdata\\roaming\\python\\python39\\site-packages (from spacy) (1.0.3)\n",
      "Requirement already satisfied: typer<0.8.0,>=0.3.0 in c:\\users\\dell 2\\appdata\\roaming\\python\\python39\\site-packages (from spacy) (0.4.2)\n",
      "Requirement already satisfied: srsly<3.0.0,>=2.4.3 in c:\\users\\dell 2\\appdata\\roaming\\python\\python39\\site-packages (from spacy) (2.4.5)\n",
      "Collecting spacy-legacy<3.1.0,>=3.0.11\n",
      "  Downloading spacy_legacy-3.0.12-py2.py3-none-any.whl (29 kB)\n",
      "Requirement already satisfied: jinja2 in c:\\users\\dell 2\\appdata\\roaming\\python\\python39\\site-packages (from spacy) (3.0.3)\n",
      "Requirement already satisfied: smart-open<7.0.0,>=5.2.1 in c:\\users\\dell 2\\appdata\\roaming\\python\\python39\\site-packages (from spacy) (5.2.1)\n",
      "Requirement already satisfied: catalogue<2.1.0,>=2.0.6 in c:\\users\\dell 2\\appdata\\roaming\\python\\python39\\site-packages (from spacy) (2.0.8)\n",
      "Requirement already satisfied: requests<3.0.0,>=2.13.0 in c:\\anaconda\\lib\\site-packages (from spacy) (2.27.1)\n",
      "Requirement already satisfied: packaging>=20.0 in c:\\anaconda\\lib\\site-packages (from spacy) (21.3)\n",
      "Requirement already satisfied: wasabi<1.2.0,>=0.9.1 in c:\\users\\dell 2\\appdata\\roaming\\python\\python39\\site-packages (from spacy) (0.10.1)\n",
      "Collecting thinc<8.2.0,>=8.1.8\n",
      "  Downloading thinc-8.1.9-cp39-cp39-win_amd64.whl (1.5 MB)\n",
      "Requirement already satisfied: pydantic!=1.8,!=1.8.1,<1.11.0,>=1.7.4 in c:\\users\\dell 2\\appdata\\roaming\\python\\python39\\site-packages (from spacy) (1.10.2)\n",
      "Requirement already satisfied: cymem<2.1.0,>=2.0.2 in c:\\users\\dell 2\\appdata\\roaming\\python\\python39\\site-packages (from spacy) (2.0.7)\n",
      "Requirement already satisfied: setuptools in c:\\anaconda\\lib\\site-packages (from spacy) (61.2.0)\n",
      "Requirement already satisfied: tqdm<5.0.0,>=4.38.0 in c:\\anaconda\\lib\\site-packages (from spacy) (4.64.0)\n",
      "Requirement already satisfied: numpy>=1.15.0 in c:\\anaconda\\lib\\site-packages (from spacy) (1.21.5)\n",
      "Requirement already satisfied: preshed<3.1.0,>=3.0.2 in c:\\users\\dell 2\\appdata\\roaming\\python\\python39\\site-packages (from spacy) (3.0.8)\n",
      "Collecting pathy>=0.10.0\n",
      "  Downloading pathy-0.10.1-py3-none-any.whl (48 kB)\n",
      "Requirement already satisfied: murmurhash<1.1.0,>=0.28.0 in c:\\users\\dell 2\\appdata\\roaming\\python\\python39\\site-packages (from spacy) (1.0.9)\n",
      "Requirement already satisfied: pyparsing!=3.0.5,>=2.0.2 in c:\\anaconda\\lib\\site-packages (from packaging>=20.0->spacy) (3.0.4)\n",
      "Requirement already satisfied: typing-extensions>=4.1.0 in c:\\anaconda\\lib\\site-packages (from pydantic!=1.8,!=1.8.1,<1.11.0,>=1.7.4->spacy) (4.1.1)\n",
      "Requirement already satisfied: certifi>=2017.4.17 in c:\\anaconda\\lib\\site-packages (from requests<3.0.0,>=2.13.0->spacy) (2021.10.8)\n",
      "Requirement already satisfied: idna<4,>=2.5 in c:\\anaconda\\lib\\site-packages (from requests<3.0.0,>=2.13.0->spacy) (3.3)\n",
      "Requirement already satisfied: charset-normalizer~=2.0.0 in c:\\anaconda\\lib\\site-packages (from requests<3.0.0,>=2.13.0->spacy) (2.0.4)\n",
      "Requirement already satisfied: urllib3<1.27,>=1.21.1 in c:\\anaconda\\lib\\site-packages (from requests<3.0.0,>=2.13.0->spacy) (1.26.9)\n"
     ]
    },
    {
     "name": "stderr",
     "output_type": "stream",
     "text": [
      "  WARNING: The script pathy.exe is installed in 'C:\\Users\\DELL 2\\AppData\\Roaming\\Python\\Python39\\Scripts' which is not on PATH.\n",
      "  Consider adding this directory to PATH or, if you prefer to suppress this warning, use --no-warn-script-location.\n",
      "  WARNING: The script spacy.exe is installed in 'C:\\Users\\DELL 2\\AppData\\Roaming\\Python\\Python39\\Scripts' which is not on PATH.\n",
      "  Consider adding this directory to PATH or, if you prefer to suppress this warning, use --no-warn-script-location.\n",
      "ERROR: pip's dependency resolver does not currently take into account all the packages that are installed. This behaviour is the source of the following dependency conflicts.\n",
      "en-core-web-sm 3.4.1 requires spacy<3.5.0,>=3.4.0, but you have spacy 3.5.2 which is incompatible.\n"
     ]
    },
    {
     "name": "stdout",
     "output_type": "stream",
     "text": [
      "Requirement already satisfied: blis<0.8.0,>=0.7.8 in c:\\users\\dell 2\\appdata\\roaming\\python\\python39\\site-packages (from thinc<8.2.0,>=8.1.8->spacy) (0.7.9)\n",
      "Requirement already satisfied: confection<1.0.0,>=0.0.1 in c:\\users\\dell 2\\appdata\\roaming\\python\\python39\\site-packages (from thinc<8.2.0,>=8.1.8->spacy) (0.0.3)\n",
      "Requirement already satisfied: colorama in c:\\anaconda\\lib\\site-packages (from tqdm<5.0.0,>=4.38.0->spacy) (0.4.4)\n",
      "Requirement already satisfied: click<9.0.0,>=7.1.1 in c:\\anaconda\\lib\\site-packages (from typer<0.8.0,>=0.3.0->spacy) (8.0.4)\n",
      "Requirement already satisfied: MarkupSafe>=2.0 in c:\\users\\dell 2\\appdata\\roaming\\python\\python39\\site-packages (from jinja2->spacy) (2.1.1)\n",
      "Installing collected packages: thinc, spacy-legacy, pathy, spacy\n",
      "  Attempting uninstall: thinc\n",
      "    Found existing installation: thinc 8.1.5\n",
      "    Uninstalling thinc-8.1.5:\n",
      "      Successfully uninstalled thinc-8.1.5\n",
      "  Attempting uninstall: spacy-legacy\n",
      "    Found existing installation: spacy-legacy 3.0.10\n",
      "    Uninstalling spacy-legacy-3.0.10:\n",
      "      Successfully uninstalled spacy-legacy-3.0.10\n",
      "  Attempting uninstall: pathy\n",
      "    Found existing installation: pathy 0.6.2\n",
      "    Uninstalling pathy-0.6.2:\n",
      "      Successfully uninstalled pathy-0.6.2\n",
      "  Attempting uninstall: spacy\n",
      "    Found existing installation: spacy 3.4.2\n",
      "    Uninstalling spacy-3.4.2:\n",
      "      Successfully uninstalled spacy-3.4.2\n",
      "Successfully installed pathy-0.10.1 spacy-3.5.2 spacy-legacy-3.0.12 thinc-8.1.9\n"
     ]
    }
   ],
   "source": [
    "!pip install -U spacy"
   ]
  },
  {
   "cell_type": "code",
   "execution_count": 28,
   "id": "37ee2e6b",
   "metadata": {},
   "outputs": [
    {
     "name": "stderr",
     "output_type": "stream",
     "text": [
      "2023-05-01 22:40:58.168484: W tensorflow/stream_executor/platform/default/dso_loader.cc:64] Could not load dynamic library 'cudart64_110.dll'; dlerror: cudart64_110.dll not found\n",
      "2023-05-01 22:40:58.168520: I tensorflow/stream_executor/cuda/cudart_stub.cc:29] Ignore above cudart dlerror if you do not have a GPU set up on your machine.\n",
      "Traceback (most recent call last):\n",
      "  File \"C:\\Anaconda\\lib\\runpy.py\", line 188, in _run_module_as_main\n",
      "    mod_name, mod_spec, code = _get_module_details(mod_name, _Error)\n",
      "  File \"C:\\Anaconda\\lib\\runpy.py\", line 147, in _get_module_details\n",
      "    return _get_module_details(pkg_main_name, error)\n",
      "  File \"C:\\Anaconda\\lib\\runpy.py\", line 111, in _get_module_details\n",
      "    __import__(pkg_name)\n",
      "  File \"C:\\Users\\DELL 2\\AppData\\Roaming\\Python\\Python39\\site-packages\\spacy\\__init__.py\", line 6, in <module>\n",
      "    from .errors import setup_default_warnings\n",
      "  File \"C:\\Users\\DELL 2\\AppData\\Roaming\\Python\\Python39\\site-packages\\spacy\\errors.py\", line 2, in <module>\n",
      "    from .compat import Literal\n",
      "  File \"C:\\Users\\DELL 2\\AppData\\Roaming\\Python\\Python39\\site-packages\\spacy\\compat.py\", line 3, in <module>\n",
      "    from thinc.util import copy_array\n",
      "  File \"C:\\Users\\DELL 2\\AppData\\Roaming\\Python\\Python39\\site-packages\\thinc\\__init__.py\", line 5, in <module>\n",
      "    from .config import registry\n",
      "  File \"C:\\Users\\DELL 2\\AppData\\Roaming\\Python\\Python39\\site-packages\\thinc\\config.py\", line 4, in <module>\n",
      "    from .types import Decorator\n",
      "  File \"C:\\Users\\DELL 2\\AppData\\Roaming\\Python\\Python39\\site-packages\\thinc\\types.py\", line 8, in <module>\n",
      "    from .compat import has_cupy, cupy\n",
      "  File \"C:\\Users\\DELL 2\\AppData\\Roaming\\Python\\Python39\\site-packages\\thinc\\compat.py\", line 56, in <module>\n",
      "    import tensorflow.experimental.dlpack\n",
      "  File \"C:\\Users\\DELL 2\\AppData\\Roaming\\Python\\Python39\\site-packages\\tensorflow\\__init__.py\", line 51, in <module>\n",
      "    from ._api.v2 import compat\n",
      "  File \"C:\\Users\\DELL 2\\AppData\\Roaming\\Python\\Python39\\site-packages\\tensorflow\\_api\\v2\\compat\\__init__.py\", line 37, in <module>\n",
      "    from . import v1\n",
      "  File \"C:\\Users\\DELL 2\\AppData\\Roaming\\Python\\Python39\\site-packages\\tensorflow\\_api\\v2\\compat\\v1\\__init__.py\", line 30, in <module>\n",
      "    from . import compat\n",
      "  File \"C:\\Users\\DELL 2\\AppData\\Roaming\\Python\\Python39\\site-packages\\tensorflow\\_api\\v2\\compat\\v1\\compat\\__init__.py\", line 38, in <module>\n",
      "    from . import v2\n",
      "  File \"C:\\Users\\DELL 2\\AppData\\Roaming\\Python\\Python39\\site-packages\\tensorflow\\_api\\v2\\compat\\v1\\compat\\v2\\__init__.py\", line 28, in <module>\n",
      "    from tensorflow._api.v2.compat.v2 import __internal__\n",
      "  File \"C:\\Users\\DELL 2\\AppData\\Roaming\\Python\\Python39\\site-packages\\tensorflow\\_api\\v2\\compat\\v2\\__init__.py\", line 33, in <module>\n",
      "    from . import compat\n",
      "  File \"C:\\Users\\DELL 2\\AppData\\Roaming\\Python\\Python39\\site-packages\\tensorflow\\_api\\v2\\compat\\v2\\compat\\__init__.py\", line 38, in <module>\n",
      "    from . import v2\n",
      "  File \"C:\\Users\\DELL 2\\AppData\\Roaming\\Python\\Python39\\site-packages\\tensorflow\\_api\\v2\\compat\\v2\\compat\\v2\\__init__.py\", line 328, in <module>\n",
      "    from tensorboard.summary._tf import summary\n",
      "  File \"C:\\Users\\DELL 2\\AppData\\Roaming\\Python\\Python39\\site-packages\\tensorboard\\summary\\__init__.py\", line 22, in <module>\n",
      "    from tensorboard.summary import v1  # noqa: F401\n",
      "  File \"C:\\Users\\DELL 2\\AppData\\Roaming\\Python\\Python39\\site-packages\\tensorboard\\summary\\v1.py\", line 23, in <module>\n",
      "    from tensorboard.plugins.histogram import summary as _histogram_summary\n",
      "  File \"C:\\Users\\DELL 2\\AppData\\Roaming\\Python\\Python39\\site-packages\\tensorboard\\plugins\\histogram\\summary.py\", line 35, in <module>\n",
      "    from tensorboard.plugins.histogram import summary_v2\n",
      "  File \"C:\\Users\\DELL 2\\AppData\\Roaming\\Python\\Python39\\site-packages\\tensorboard\\plugins\\histogram\\summary_v2.py\", line 35, in <module>\n",
      "    from tensorboard.util import tensor_util\n",
      "  File \"C:\\Users\\DELL 2\\AppData\\Roaming\\Python\\Python39\\site-packages\\tensorboard\\util\\tensor_util.py\", line 20, in <module>\n",
      "    from tensorboard.compat.tensorflow_stub import dtypes, compat, tensor_shape\n",
      "  File \"C:\\Users\\DELL 2\\AppData\\Roaming\\Python\\Python39\\site-packages\\tensorboard\\compat\\tensorflow_stub\\__init__.py\", line 22, in <module>\n",
      "    from .dtypes import as_dtype  # noqa\n",
      "  File \"C:\\Users\\DELL 2\\AppData\\Roaming\\Python\\Python39\\site-packages\\tensorboard\\compat\\tensorflow_stub\\dtypes.py\", line 19, in <module>\n",
      "    from . import pywrap_tensorflow\n",
      "  File \"C:\\Users\\DELL 2\\AppData\\Roaming\\Python\\Python39\\site-packages\\tensorboard\\compat\\tensorflow_stub\\pywrap_tensorflow.py\", line 22, in <module>\n",
      "    from .io import gfile\n",
      "  File \"C:\\Users\\DELL 2\\AppData\\Roaming\\Python\\Python39\\site-packages\\tensorboard\\compat\\tensorflow_stub\\io\\__init__.py\", line 17, in <module>\n",
      "    from . import gfile  # noqa\n",
      "  File \"C:\\Users\\DELL 2\\AppData\\Roaming\\Python\\Python39\\site-packages\\tensorboard\\compat\\tensorflow_stub\\io\\gfile.py\", line 33, in <module>\n",
      "    import boto3\n",
      "  File \"C:\\Anaconda\\lib\\site-packages\\boto3\\__init__.py\", line 17, in <module>\n",
      "    from boto3.session import Session\n",
      "  File \"C:\\Anaconda\\lib\\site-packages\\boto3\\session.py\", line 17, in <module>\n",
      "    import botocore.session\n",
      "  File \"C:\\Anaconda\\lib\\site-packages\\botocore\\session.py\", line 26, in <module>\n",
      "    import botocore.client\n",
      "  File \"C:\\Anaconda\\lib\\site-packages\\botocore\\client.py\", line 15, in <module>\n",
      "    from botocore import waiter, xform_name\n",
      "  File \"C:\\Anaconda\\lib\\site-packages\\botocore\\waiter.py\", line 18, in <module>\n",
      "    from botocore.docs.docstring import WaiterDocstring\n",
      "  File \"C:\\Anaconda\\lib\\site-packages\\botocore\\docs\\__init__.py\", line 15, in <module>\n",
      "    from botocore.docs.service import ServiceDocumenter\n",
      "  File \"C:\\Anaconda\\lib\\site-packages\\botocore\\docs\\service.py\", line 14, in <module>\n",
      "    from botocore.docs.client import ClientDocumenter, ClientExceptionsDocumenter\n",
      "  File \"C:\\Anaconda\\lib\\site-packages\\botocore\\docs\\client.py\", line 14, in <module>\n",
      "    from botocore.docs.example import ResponseExampleDocumenter\n",
      "  File \"C:\\Anaconda\\lib\\site-packages\\botocore\\docs\\example.py\", line 13, in <module>\n",
      "    from botocore.docs.shape import ShapeDocumenter\n",
      "  File \"C:\\Anaconda\\lib\\site-packages\\botocore\\docs\\shape.py\", line 19, in <module>\n",
      "    from botocore.utils import is_json_value_header\n",
      "  File \"C:\\Anaconda\\lib\\site-packages\\botocore\\utils.py\", line 34, in <module>\n",
      "    import botocore.httpsession\n",
      "  File \"C:\\Anaconda\\lib\\site-packages\\botocore\\httpsession.py\", line 34, in <module>\n",
      "    from urllib3.contrib.pyopenssl import orig_util_SSLContext as SSLContext\n",
      "  File \"C:\\Anaconda\\lib\\site-packages\\urllib3\\contrib\\pyopenssl.py\", line 50, in <module>\n",
      "    import OpenSSL.SSL\n",
      "  File \"C:\\Anaconda\\lib\\site-packages\\OpenSSL\\__init__.py\", line 8, in <module>\n",
      "    from OpenSSL import crypto, SSL\n",
      "  File \"C:\\Anaconda\\lib\\site-packages\\OpenSSL\\crypto.py\", line 3279, in <module>\n",
      "    _lib.OpenSSL_add_all_algorithms()\n",
      "AttributeError: module 'lib' has no attribute 'OpenSSL_add_all_algorithms'\n"
     ]
    }
   ],
   "source": [
    "!python -m spacy download en_core_web_sm"
   ]
  },
  {
   "cell_type": "code",
   "execution_count": 29,
   "id": "cf4a76a6",
   "metadata": {},
   "outputs": [
    {
     "name": "stdout",
     "output_type": "stream",
     "text": [
      "Unexpected exception formatting exception. Falling back to standard exception\n"
     ]
    },
    {
     "name": "stderr",
     "output_type": "stream",
     "text": [
      "Traceback (most recent call last):\n",
      "  File \"C:\\Anaconda\\lib\\site-packages\\IPython\\core\\interactiveshell.py\", line 3369, in run_code\n",
      "    exec(code_obj, self.user_global_ns, self.user_ns)\n",
      "  File \"C:\\Users\\DELL 2\\AppData\\Local\\Temp\\ipykernel_20684\\572880994.py\", line 1, in <cell line: 1>\n",
      "    import spacy\n",
      "  File \"C:\\Users\\DELL 2\\AppData\\Roaming\\Python\\Python39\\site-packages\\spacy\\__init__.py\", line 6, in <module>\n",
      "    from .errors import setup_default_warnings\n",
      "  File \"C:\\Users\\DELL 2\\AppData\\Roaming\\Python\\Python39\\site-packages\\spacy\\errors.py\", line 2, in <module>\n",
      "    from .compat import Literal\n",
      "  File \"C:\\Users\\DELL 2\\AppData\\Roaming\\Python\\Python39\\site-packages\\spacy\\compat.py\", line 3, in <module>\n",
      "    from thinc.util import copy_array\n",
      "  File \"C:\\Users\\DELL 2\\AppData\\Roaming\\Python\\Python39\\site-packages\\thinc\\__init__.py\", line 5, in <module>\n",
      "    from .config import registry\n",
      "  File \"C:\\Users\\DELL 2\\AppData\\Roaming\\Python\\Python39\\site-packages\\thinc\\config.py\", line 4, in <module>\n",
      "    from .types import Decorator\n",
      "  File \"C:\\Users\\DELL 2\\AppData\\Roaming\\Python\\Python39\\site-packages\\thinc\\types.py\", line 8, in <module>\n",
      "    from .compat import has_cupy, cupy\n",
      "  File \"C:\\Users\\DELL 2\\AppData\\Roaming\\Python\\Python39\\site-packages\\thinc\\compat.py\", line 56, in <module>\n",
      "    import tensorflow.experimental.dlpack\n",
      "  File \"C:\\Users\\DELL 2\\AppData\\Roaming\\Python\\Python39\\site-packages\\tensorflow\\__init__.py\", line 51, in <module>\n",
      "    from ._api.v2 import compat\n",
      "  File \"C:\\Users\\DELL 2\\AppData\\Roaming\\Python\\Python39\\site-packages\\tensorflow\\_api\\v2\\compat\\__init__.py\", line 37, in <module>\n",
      "    from . import v1\n",
      "  File \"C:\\Users\\DELL 2\\AppData\\Roaming\\Python\\Python39\\site-packages\\tensorflow\\_api\\v2\\compat\\v1\\__init__.py\", line 30, in <module>\n",
      "    from . import compat\n",
      "  File \"C:\\Users\\DELL 2\\AppData\\Roaming\\Python\\Python39\\site-packages\\tensorflow\\_api\\v2\\compat\\v1\\compat\\__init__.py\", line 38, in <module>\n",
      "    from . import v2\n",
      "  File \"C:\\Users\\DELL 2\\AppData\\Roaming\\Python\\Python39\\site-packages\\tensorflow\\_api\\v2\\compat\\v1\\compat\\v2\\__init__.py\", line 28, in <module>\n",
      "    from tensorflow._api.v2.compat.v2 import __internal__\n",
      "  File \"C:\\Users\\DELL 2\\AppData\\Roaming\\Python\\Python39\\site-packages\\tensorflow\\_api\\v2\\compat\\v2\\__init__.py\", line 33, in <module>\n",
      "    from . import compat\n",
      "  File \"C:\\Users\\DELL 2\\AppData\\Roaming\\Python\\Python39\\site-packages\\tensorflow\\_api\\v2\\compat\\v2\\compat\\__init__.py\", line 38, in <module>\n",
      "    from . import v2\n",
      "  File \"C:\\Users\\DELL 2\\AppData\\Roaming\\Python\\Python39\\site-packages\\tensorflow\\_api\\v2\\compat\\v2\\compat\\v2\\__init__.py\", line 328, in <module>\n",
      "    from tensorboard.summary._tf import summary\n",
      "  File \"C:\\Users\\DELL 2\\AppData\\Roaming\\Python\\Python39\\site-packages\\tensorboard\\summary\\__init__.py\", line 22, in <module>\n",
      "    from tensorboard.summary import v1  # noqa: F401\n",
      "  File \"C:\\Users\\DELL 2\\AppData\\Roaming\\Python\\Python39\\site-packages\\tensorboard\\summary\\v1.py\", line 23, in <module>\n",
      "    from tensorboard.plugins.histogram import summary as _histogram_summary\n",
      "  File \"C:\\Users\\DELL 2\\AppData\\Roaming\\Python\\Python39\\site-packages\\tensorboard\\plugins\\histogram\\summary.py\", line 35, in <module>\n",
      "    from tensorboard.plugins.histogram import summary_v2\n",
      "  File \"C:\\Users\\DELL 2\\AppData\\Roaming\\Python\\Python39\\site-packages\\tensorboard\\plugins\\histogram\\summary_v2.py\", line 35, in <module>\n",
      "    from tensorboard.util import tensor_util\n",
      "  File \"C:\\Users\\DELL 2\\AppData\\Roaming\\Python\\Python39\\site-packages\\tensorboard\\util\\tensor_util.py\", line 20, in <module>\n",
      "    from tensorboard.compat.tensorflow_stub import dtypes, compat, tensor_shape\n",
      "  File \"C:\\Users\\DELL 2\\AppData\\Roaming\\Python\\Python39\\site-packages\\tensorboard\\compat\\tensorflow_stub\\__init__.py\", line 22, in <module>\n",
      "    from .dtypes import as_dtype  # noqa\n",
      "  File \"C:\\Users\\DELL 2\\AppData\\Roaming\\Python\\Python39\\site-packages\\tensorboard\\compat\\tensorflow_stub\\dtypes.py\", line 19, in <module>\n",
      "    from . import pywrap_tensorflow\n",
      "  File \"C:\\Users\\DELL 2\\AppData\\Roaming\\Python\\Python39\\site-packages\\tensorboard\\compat\\tensorflow_stub\\pywrap_tensorflow.py\", line 22, in <module>\n",
      "    from .io import gfile\n",
      "  File \"C:\\Users\\DELL 2\\AppData\\Roaming\\Python\\Python39\\site-packages\\tensorboard\\compat\\tensorflow_stub\\io\\__init__.py\", line 17, in <module>\n",
      "    from . import gfile  # noqa\n",
      "  File \"C:\\Users\\DELL 2\\AppData\\Roaming\\Python\\Python39\\site-packages\\tensorboard\\compat\\tensorflow_stub\\io\\gfile.py\", line 33, in <module>\n",
      "    import boto3\n",
      "  File \"C:\\Anaconda\\lib\\site-packages\\boto3\\__init__.py\", line 17, in <module>\n",
      "    from boto3.session import Session\n",
      "  File \"C:\\Anaconda\\lib\\site-packages\\boto3\\session.py\", line 17, in <module>\n",
      "    import botocore.session\n",
      "  File \"C:\\Anaconda\\lib\\site-packages\\botocore\\session.py\", line 26, in <module>\n",
      "    import botocore.client\n",
      "  File \"C:\\Anaconda\\lib\\site-packages\\botocore\\client.py\", line 15, in <module>\n",
      "    from botocore import waiter, xform_name\n",
      "  File \"C:\\Anaconda\\lib\\site-packages\\botocore\\waiter.py\", line 18, in <module>\n",
      "    from botocore.docs.docstring import WaiterDocstring\n",
      "  File \"C:\\Anaconda\\lib\\site-packages\\botocore\\docs\\__init__.py\", line 15, in <module>\n",
      "    from botocore.docs.service import ServiceDocumenter\n",
      "  File \"C:\\Anaconda\\lib\\site-packages\\botocore\\docs\\service.py\", line 14, in <module>\n",
      "    from botocore.docs.client import ClientDocumenter, ClientExceptionsDocumenter\n",
      "  File \"C:\\Anaconda\\lib\\site-packages\\botocore\\docs\\client.py\", line 14, in <module>\n",
      "    from botocore.docs.example import ResponseExampleDocumenter\n",
      "  File \"C:\\Anaconda\\lib\\site-packages\\botocore\\docs\\example.py\", line 13, in <module>\n",
      "    from botocore.docs.shape import ShapeDocumenter\n",
      "  File \"C:\\Anaconda\\lib\\site-packages\\botocore\\docs\\shape.py\", line 19, in <module>\n",
      "    from botocore.utils import is_json_value_header\n",
      "  File \"C:\\Anaconda\\lib\\site-packages\\botocore\\utils.py\", line 34, in <module>\n",
      "    import botocore.httpsession\n",
      "  File \"C:\\Anaconda\\lib\\site-packages\\botocore\\httpsession.py\", line 34, in <module>\n",
      "    from urllib3.contrib.pyopenssl import orig_util_SSLContext as SSLContext\n",
      "  File \"C:\\Anaconda\\lib\\site-packages\\urllib3\\contrib\\pyopenssl.py\", line 50, in <module>\n",
      "    import OpenSSL.SSL\n",
      "  File \"C:\\Anaconda\\lib\\site-packages\\OpenSSL\\__init__.py\", line 8, in <module>\n",
      "    from OpenSSL import crypto, SSL\n",
      "  File \"C:\\Anaconda\\lib\\site-packages\\OpenSSL\\crypto.py\", line 3279, in <module>\n",
      "    _lib.OpenSSL_add_all_algorithms()\n",
      "AttributeError: module 'lib' has no attribute 'OpenSSL_add_all_algorithms'\n",
      "\n",
      "During handling of the above exception, another exception occurred:\n",
      "\n",
      "Traceback (most recent call last):\n",
      "  File \"C:\\Anaconda\\lib\\site-packages\\IPython\\core\\interactiveshell.py\", line 1982, in showtraceback\n",
      "    stb = self.InteractiveTB.structured_traceback(\n",
      "  File \"C:\\Anaconda\\lib\\site-packages\\IPython\\core\\ultratb.py\", line 1118, in structured_traceback\n",
      "    return FormattedTB.structured_traceback(\n",
      "  File \"C:\\Anaconda\\lib\\site-packages\\IPython\\core\\ultratb.py\", line 1012, in structured_traceback\n",
      "    return VerboseTB.structured_traceback(\n",
      "  File \"C:\\Anaconda\\lib\\site-packages\\IPython\\core\\ultratb.py\", line 865, in structured_traceback\n",
      "    formatted_exception = self.format_exception_as_a_whole(etype, evalue, etb, number_of_lines_of_context,\n",
      "  File \"C:\\Anaconda\\lib\\site-packages\\IPython\\core\\ultratb.py\", line 818, in format_exception_as_a_whole\n",
      "    frames.append(self.format_record(r))\n",
      "  File \"C:\\Anaconda\\lib\\site-packages\\IPython\\core\\ultratb.py\", line 736, in format_record\n",
      "    result += ''.join(_format_traceback_lines(frame_info.lines, Colors, self.has_colors, lvals))\n",
      "  File \"C:\\Anaconda\\lib\\site-packages\\stack_data\\utils.py\", line 145, in cached_property_wrapper\n",
      "    value = obj.__dict__[self.func.__name__] = self.func(obj)\n",
      "  File \"C:\\Anaconda\\lib\\site-packages\\stack_data\\core.py\", line 698, in lines\n",
      "    pieces = self.included_pieces\n",
      "  File \"C:\\Anaconda\\lib\\site-packages\\stack_data\\utils.py\", line 145, in cached_property_wrapper\n",
      "    value = obj.__dict__[self.func.__name__] = self.func(obj)\n",
      "  File \"C:\\Anaconda\\lib\\site-packages\\stack_data\\core.py\", line 649, in included_pieces\n",
      "    pos = scope_pieces.index(self.executing_piece)\n",
      "  File \"C:\\Anaconda\\lib\\site-packages\\stack_data\\utils.py\", line 145, in cached_property_wrapper\n",
      "    value = obj.__dict__[self.func.__name__] = self.func(obj)\n",
      "  File \"C:\\Anaconda\\lib\\site-packages\\stack_data\\core.py\", line 628, in executing_piece\n",
      "    return only(\n",
      "  File \"C:\\Anaconda\\lib\\site-packages\\executing\\executing.py\", line 164, in only\n",
      "    raise NotOneValueFound('Expected one value, found 0')\n",
      "executing.executing.NotOneValueFound: Expected one value, found 0\n"
     ]
    }
   ],
   "source": [
    "import spacy"
   ]
  },
  {
   "cell_type": "code",
   "execution_count": 30,
   "id": "4f0ad67e",
   "metadata": {},
   "outputs": [
    {
     "ename": "NameError",
     "evalue": "name 'spacy' is not defined",
     "output_type": "error",
     "traceback": [
      "\u001b[1;31m---------------------------------------------------------------------------\u001b[0m",
      "\u001b[1;31mNameError\u001b[0m                                 Traceback (most recent call last)",
      "Input \u001b[1;32mIn [30]\u001b[0m, in \u001b[0;36m<cell line: 1>\u001b[1;34m()\u001b[0m\n\u001b[1;32m----> 1\u001b[0m nlp \u001b[38;5;241m=\u001b[39m \u001b[43mspacy\u001b[49m\u001b[38;5;241m.\u001b[39mload(\u001b[38;5;124m\"\u001b[39m\u001b[38;5;124men_core_web_sm\u001b[39m\u001b[38;5;124m\"\u001b[39m)\n",
      "\u001b[1;31mNameError\u001b[0m: name 'spacy' is not defined"
     ]
    }
   ],
   "source": [
    "nlp = spacy.load(\"en_core_web_sm\")"
   ]
  },
  {
   "cell_type": "code",
   "execution_count": 31,
   "id": "2b223caa",
   "metadata": {},
   "outputs": [
    {
     "name": "stdout",
     "output_type": "stream",
     "text": [
      "Unexpected exception formatting exception. Falling back to standard exception\n"
     ]
    },
    {
     "name": "stderr",
     "output_type": "stream",
     "text": [
      "Traceback (most recent call last):\n",
      "  File \"C:\\Anaconda\\lib\\site-packages\\IPython\\core\\interactiveshell.py\", line 3369, in run_code\n",
      "    exec(code_obj, self.user_global_ns, self.user_ns)\n",
      "  File \"C:\\Users\\DELL 2\\AppData\\Local\\Temp\\ipykernel_20684\\300596881.py\", line 3, in <cell line: 3>\n",
      "    import spacy\n",
      "  File \"C:\\Users\\DELL 2\\AppData\\Roaming\\Python\\Python39\\site-packages\\spacy\\__init__.py\", line 6, in <module>\n",
      "    from .errors import setup_default_warnings\n",
      "  File \"C:\\Users\\DELL 2\\AppData\\Roaming\\Python\\Python39\\site-packages\\spacy\\errors.py\", line 2, in <module>\n",
      "    from .compat import Literal\n",
      "  File \"C:\\Users\\DELL 2\\AppData\\Roaming\\Python\\Python39\\site-packages\\spacy\\compat.py\", line 3, in <module>\n",
      "    from thinc.util import copy_array\n",
      "  File \"C:\\Users\\DELL 2\\AppData\\Roaming\\Python\\Python39\\site-packages\\thinc\\__init__.py\", line 5, in <module>\n",
      "    from .config import registry\n",
      "  File \"C:\\Users\\DELL 2\\AppData\\Roaming\\Python\\Python39\\site-packages\\thinc\\config.py\", line 4, in <module>\n",
      "    from .types import Decorator\n",
      "  File \"C:\\Users\\DELL 2\\AppData\\Roaming\\Python\\Python39\\site-packages\\thinc\\types.py\", line 8, in <module>\n",
      "    from .compat import has_cupy, cupy\n",
      "  File \"C:\\Users\\DELL 2\\AppData\\Roaming\\Python\\Python39\\site-packages\\thinc\\compat.py\", line 56, in <module>\n",
      "    import tensorflow.experimental.dlpack\n",
      "  File \"C:\\Users\\DELL 2\\AppData\\Roaming\\Python\\Python39\\site-packages\\tensorflow\\__init__.py\", line 51, in <module>\n",
      "    from ._api.v2 import compat\n",
      "  File \"C:\\Users\\DELL 2\\AppData\\Roaming\\Python\\Python39\\site-packages\\tensorflow\\_api\\v2\\compat\\__init__.py\", line 37, in <module>\n",
      "    from . import v1\n",
      "  File \"C:\\Users\\DELL 2\\AppData\\Roaming\\Python\\Python39\\site-packages\\tensorflow\\_api\\v2\\compat\\v1\\__init__.py\", line 30, in <module>\n",
      "    from . import compat\n",
      "  File \"C:\\Users\\DELL 2\\AppData\\Roaming\\Python\\Python39\\site-packages\\tensorflow\\_api\\v2\\compat\\v1\\compat\\__init__.py\", line 38, in <module>\n",
      "    from . import v2\n",
      "  File \"C:\\Users\\DELL 2\\AppData\\Roaming\\Python\\Python39\\site-packages\\tensorflow\\_api\\v2\\compat\\v1\\compat\\v2\\__init__.py\", line 28, in <module>\n",
      "    from tensorflow._api.v2.compat.v2 import __internal__\n",
      "  File \"C:\\Users\\DELL 2\\AppData\\Roaming\\Python\\Python39\\site-packages\\tensorflow\\_api\\v2\\compat\\v2\\__init__.py\", line 33, in <module>\n",
      "    from . import compat\n",
      "  File \"C:\\Users\\DELL 2\\AppData\\Roaming\\Python\\Python39\\site-packages\\tensorflow\\_api\\v2\\compat\\v2\\compat\\__init__.py\", line 38, in <module>\n",
      "    from . import v2\n",
      "  File \"C:\\Users\\DELL 2\\AppData\\Roaming\\Python\\Python39\\site-packages\\tensorflow\\_api\\v2\\compat\\v2\\compat\\v2\\__init__.py\", line 328, in <module>\n",
      "    from tensorboard.summary._tf import summary\n",
      "  File \"C:\\Users\\DELL 2\\AppData\\Roaming\\Python\\Python39\\site-packages\\tensorboard\\summary\\__init__.py\", line 22, in <module>\n",
      "    from tensorboard.summary import v1  # noqa: F401\n",
      "  File \"C:\\Users\\DELL 2\\AppData\\Roaming\\Python\\Python39\\site-packages\\tensorboard\\summary\\v1.py\", line 23, in <module>\n",
      "    from tensorboard.plugins.histogram import summary as _histogram_summary\n",
      "  File \"C:\\Users\\DELL 2\\AppData\\Roaming\\Python\\Python39\\site-packages\\tensorboard\\plugins\\histogram\\summary.py\", line 35, in <module>\n",
      "    from tensorboard.plugins.histogram import summary_v2\n",
      "  File \"C:\\Users\\DELL 2\\AppData\\Roaming\\Python\\Python39\\site-packages\\tensorboard\\plugins\\histogram\\summary_v2.py\", line 35, in <module>\n",
      "    from tensorboard.util import tensor_util\n",
      "  File \"C:\\Users\\DELL 2\\AppData\\Roaming\\Python\\Python39\\site-packages\\tensorboard\\util\\tensor_util.py\", line 20, in <module>\n",
      "    from tensorboard.compat.tensorflow_stub import dtypes, compat, tensor_shape\n",
      "  File \"C:\\Users\\DELL 2\\AppData\\Roaming\\Python\\Python39\\site-packages\\tensorboard\\compat\\tensorflow_stub\\__init__.py\", line 22, in <module>\n",
      "    from .dtypes import as_dtype  # noqa\n",
      "  File \"C:\\Users\\DELL 2\\AppData\\Roaming\\Python\\Python39\\site-packages\\tensorboard\\compat\\tensorflow_stub\\dtypes.py\", line 19, in <module>\n",
      "    from . import pywrap_tensorflow\n",
      "  File \"C:\\Users\\DELL 2\\AppData\\Roaming\\Python\\Python39\\site-packages\\tensorboard\\compat\\tensorflow_stub\\pywrap_tensorflow.py\", line 22, in <module>\n",
      "    from .io import gfile\n",
      "  File \"C:\\Users\\DELL 2\\AppData\\Roaming\\Python\\Python39\\site-packages\\tensorboard\\compat\\tensorflow_stub\\io\\__init__.py\", line 17, in <module>\n",
      "    from . import gfile  # noqa\n",
      "  File \"C:\\Users\\DELL 2\\AppData\\Roaming\\Python\\Python39\\site-packages\\tensorboard\\compat\\tensorflow_stub\\io\\gfile.py\", line 33, in <module>\n",
      "    import boto3\n",
      "  File \"C:\\Anaconda\\lib\\site-packages\\boto3\\__init__.py\", line 17, in <module>\n",
      "    from boto3.session import Session\n",
      "  File \"C:\\Anaconda\\lib\\site-packages\\boto3\\session.py\", line 17, in <module>\n",
      "    import botocore.session\n",
      "  File \"C:\\Anaconda\\lib\\site-packages\\botocore\\session.py\", line 26, in <module>\n",
      "    import botocore.client\n",
      "  File \"C:\\Anaconda\\lib\\site-packages\\botocore\\client.py\", line 15, in <module>\n",
      "    from botocore import waiter, xform_name\n",
      "  File \"C:\\Anaconda\\lib\\site-packages\\botocore\\waiter.py\", line 18, in <module>\n",
      "    from botocore.docs.docstring import WaiterDocstring\n",
      "  File \"C:\\Anaconda\\lib\\site-packages\\botocore\\docs\\__init__.py\", line 15, in <module>\n",
      "    from botocore.docs.service import ServiceDocumenter\n",
      "  File \"C:\\Anaconda\\lib\\site-packages\\botocore\\docs\\service.py\", line 14, in <module>\n",
      "    from botocore.docs.client import ClientDocumenter, ClientExceptionsDocumenter\n",
      "  File \"C:\\Anaconda\\lib\\site-packages\\botocore\\docs\\client.py\", line 14, in <module>\n",
      "    from botocore.docs.example import ResponseExampleDocumenter\n",
      "  File \"C:\\Anaconda\\lib\\site-packages\\botocore\\docs\\example.py\", line 13, in <module>\n",
      "    from botocore.docs.shape import ShapeDocumenter\n",
      "  File \"C:\\Anaconda\\lib\\site-packages\\botocore\\docs\\shape.py\", line 19, in <module>\n",
      "    from botocore.utils import is_json_value_header\n",
      "  File \"C:\\Anaconda\\lib\\site-packages\\botocore\\utils.py\", line 34, in <module>\n",
      "    import botocore.httpsession\n",
      "  File \"C:\\Anaconda\\lib\\site-packages\\botocore\\httpsession.py\", line 34, in <module>\n",
      "    from urllib3.contrib.pyopenssl import orig_util_SSLContext as SSLContext\n",
      "  File \"C:\\Anaconda\\lib\\site-packages\\urllib3\\contrib\\pyopenssl.py\", line 50, in <module>\n",
      "    import OpenSSL.SSL\n",
      "  File \"C:\\Anaconda\\lib\\site-packages\\OpenSSL\\__init__.py\", line 8, in <module>\n",
      "    from OpenSSL import crypto, SSL\n",
      "  File \"C:\\Anaconda\\lib\\site-packages\\OpenSSL\\crypto.py\", line 3279, in <module>\n",
      "    _lib.OpenSSL_add_all_algorithms()\n",
      "AttributeError: module 'lib' has no attribute 'OpenSSL_add_all_algorithms'\n",
      "\n",
      "During handling of the above exception, another exception occurred:\n",
      "\n",
      "Traceback (most recent call last):\n",
      "  File \"C:\\Anaconda\\lib\\site-packages\\IPython\\core\\interactiveshell.py\", line 1982, in showtraceback\n",
      "    stb = self.InteractiveTB.structured_traceback(\n",
      "  File \"C:\\Anaconda\\lib\\site-packages\\IPython\\core\\ultratb.py\", line 1118, in structured_traceback\n",
      "    return FormattedTB.structured_traceback(\n",
      "  File \"C:\\Anaconda\\lib\\site-packages\\IPython\\core\\ultratb.py\", line 1012, in structured_traceback\n",
      "    return VerboseTB.structured_traceback(\n",
      "  File \"C:\\Anaconda\\lib\\site-packages\\IPython\\core\\ultratb.py\", line 865, in structured_traceback\n",
      "    formatted_exception = self.format_exception_as_a_whole(etype, evalue, etb, number_of_lines_of_context,\n",
      "  File \"C:\\Anaconda\\lib\\site-packages\\IPython\\core\\ultratb.py\", line 818, in format_exception_as_a_whole\n",
      "    frames.append(self.format_record(r))\n",
      "  File \"C:\\Anaconda\\lib\\site-packages\\IPython\\core\\ultratb.py\", line 736, in format_record\n",
      "    result += ''.join(_format_traceback_lines(frame_info.lines, Colors, self.has_colors, lvals))\n",
      "  File \"C:\\Anaconda\\lib\\site-packages\\stack_data\\utils.py\", line 145, in cached_property_wrapper\n",
      "    value = obj.__dict__[self.func.__name__] = self.func(obj)\n",
      "  File \"C:\\Anaconda\\lib\\site-packages\\stack_data\\core.py\", line 698, in lines\n",
      "    pieces = self.included_pieces\n",
      "  File \"C:\\Anaconda\\lib\\site-packages\\stack_data\\utils.py\", line 145, in cached_property_wrapper\n",
      "    value = obj.__dict__[self.func.__name__] = self.func(obj)\n",
      "  File \"C:\\Anaconda\\lib\\site-packages\\stack_data\\core.py\", line 649, in included_pieces\n",
      "    pos = scope_pieces.index(self.executing_piece)\n",
      "  File \"C:\\Anaconda\\lib\\site-packages\\stack_data\\utils.py\", line 145, in cached_property_wrapper\n",
      "    value = obj.__dict__[self.func.__name__] = self.func(obj)\n",
      "  File \"C:\\Anaconda\\lib\\site-packages\\stack_data\\core.py\", line 628, in executing_piece\n",
      "    return only(\n",
      "  File \"C:\\Anaconda\\lib\\site-packages\\executing\\executing.py\", line 164, in only\n",
      "    raise NotOneValueFound('Expected one value, found 0')\n",
      "executing.executing.NotOneValueFound: Expected one value, found 0\n"
     ]
    }
   ],
   "source": [
    "# pip install -U spacy\n",
    "# python -m spacy download en_core_web_sm\n",
    "import spacy\n",
    "\n",
    "# Load English tokenizer, tagger, parser and NER\n",
    "nlp = spacy.load(\"en_core_web_sm\")\n",
    "\n",
    "# Process whole documents\n",
    "text = (\"When Sebastian Thrun started working on self-driving cars at \"\n",
    "        \"Google in 2007, few people outside of the company took him \"\n",
    "        \"seriously. “I can tell you very senior CEOs of major American \"\n",
    "        \"car companies would shake my hand and turn away because I wasn’t \"\n",
    "        \"worth talking to,” said Thrun, in an interview with Recode earlier \"\n",
    "        \"this week.\")\n",
    "doc = nlp(text)\n",
    "\n",
    "# Analyze syntax\n",
    "print(\"Noun phrases:\", [chunk.text for chunk in doc.noun_chunks])\n",
    "print(\"Verbs:\", [token.lemma_ for token in doc if token.pos_ == \"VERB\"])\n",
    "\n",
    "# Find named entities, phrases and concepts\n",
    "for entity in doc.ents:\n",
    "    print(entity.text, entity.label_)\n"
   ]
  },
  {
   "cell_type": "code",
   "execution_count": null,
   "id": "f3d69b48",
   "metadata": {},
   "outputs": [],
   "source": []
  },
  {
   "cell_type": "code",
   "execution_count": null,
   "id": "17893b8c",
   "metadata": {},
   "outputs": [],
   "source": []
  },
  {
   "cell_type": "code",
   "execution_count": null,
   "id": "f5d95289",
   "metadata": {},
   "outputs": [],
   "source": []
  },
  {
   "cell_type": "code",
   "execution_count": null,
   "id": "50bc8c3e",
   "metadata": {},
   "outputs": [],
   "source": []
  },
  {
   "cell_type": "code",
   "execution_count": null,
   "id": "5e2d4526",
   "metadata": {},
   "outputs": [],
   "source": []
  },
  {
   "cell_type": "code",
   "execution_count": null,
   "id": "866b2d4f",
   "metadata": {},
   "outputs": [],
   "source": []
  },
  {
   "cell_type": "code",
   "execution_count": null,
   "id": "e2e7df53",
   "metadata": {},
   "outputs": [],
   "source": []
  }
 ],
 "metadata": {
  "kernelspec": {
   "display_name": "Python 3 (ipykernel)",
   "language": "python",
   "name": "python3"
  },
  "language_info": {
   "codemirror_mode": {
    "name": "ipython",
    "version": 3
   },
   "file_extension": ".py",
   "mimetype": "text/x-python",
   "name": "python",
   "nbconvert_exporter": "python",
   "pygments_lexer": "ipython3",
   "version": "3.9.12"
  }
 },
 "nbformat": 4,
 "nbformat_minor": 5
}
